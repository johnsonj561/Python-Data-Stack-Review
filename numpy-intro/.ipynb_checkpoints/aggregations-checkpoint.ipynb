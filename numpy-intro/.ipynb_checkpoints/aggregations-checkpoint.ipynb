{
 "cells": [
  {
   "cell_type": "markdown",
   "metadata": {},
   "source": [
    "### NumPy Aggregation Methods"
   ]
  },
  {
   "cell_type": "code",
   "execution_count": 1,
   "metadata": {},
   "outputs": [],
   "source": [
    "import numpy as np"
   ]
  },
  {
   "cell_type": "code",
   "execution_count": 3,
   "metadata": {},
   "outputs": [],
   "source": [
    "L = np.random.random(100)"
   ]
  },
  {
   "cell_type": "code",
   "execution_count": 4,
   "metadata": {},
   "outputs": [
    {
     "name": "stdout",
     "output_type": "stream",
     "text": [
      "7.95 µs ± 80.8 ns per loop (mean ± std. dev. of 7 runs, 100000 loops each)\n"
     ]
    }
   ],
   "source": [
    "%timeit sum(L)"
   ]
  },
  {
   "cell_type": "code",
   "execution_count": 5,
   "metadata": {},
   "outputs": [
    {
     "name": "stdout",
     "output_type": "stream",
     "text": [
      "2.36 µs ± 44.4 ns per loop (mean ± std. dev. of 7 runs, 100000 loops each)\n"
     ]
    }
   ],
   "source": [
    "%timeit np.sum(L)"
   ]
  },
  {
   "cell_type": "code",
   "execution_count": 6,
   "metadata": {},
   "outputs": [],
   "source": [
    "big_array = np.random.rand(1000000)"
   ]
  },
  {
   "cell_type": "code",
   "execution_count": 7,
   "metadata": {},
   "outputs": [
    {
     "name": "stdout",
     "output_type": "stream",
     "text": [
      "49.6 ms ± 261 µs per loop (mean ± std. dev. of 7 runs, 10 loops each)\n",
      "330 µs ± 9.48 µs per loop (mean ± std. dev. of 7 runs, 1000 loops each)\n"
     ]
    }
   ],
   "source": [
    "%timeit min(big_array)\n",
    "%timeit np.min(big_array)"
   ]
  },
  {
   "cell_type": "code",
   "execution_count": 8,
   "metadata": {},
   "outputs": [
    {
     "name": "stdout",
     "output_type": "stream",
     "text": [
      "1.4322830267365916e-06 0.9999987651133485 499990.50797291804\n"
     ]
    }
   ],
   "source": [
    "print(big_array.min(), big_array.max(), big_array.sum())"
   ]
  },
  {
   "cell_type": "markdown",
   "metadata": {},
   "source": [
    "#### Multi-dimensional Aggregates"
   ]
  },
  {
   "cell_type": "code",
   "execution_count": 9,
   "metadata": {},
   "outputs": [
    {
     "name": "stdout",
     "output_type": "stream",
     "text": [
      "[[0.22647291 0.60258181 0.0353227  0.32202708]\n",
      " [0.21525587 0.74596043 0.88287553 0.10727745]\n",
      " [0.2004322  0.12458268 0.9431711  0.90969991]]\n"
     ]
    }
   ],
   "source": [
    "M = np.random.random((3, 4))\n",
    "print(M)"
   ]
  },
  {
   "cell_type": "code",
   "execution_count": 10,
   "metadata": {},
   "outputs": [
    {
     "data": {
      "text/plain": [
       "5.31565966119288"
      ]
     },
     "execution_count": 10,
     "metadata": {},
     "output_type": "execute_result"
    }
   ],
   "source": [
    "# by default NumPy aggregates over entire array\n",
    "M.sum()"
   ]
  },
  {
   "cell_type": "code",
   "execution_count": 16,
   "metadata": {},
   "outputs": [
    {
     "data": {
      "text/plain": [
       "array([0.2004322 , 0.12458268, 0.0353227 , 0.10727745])"
      ]
     },
     "execution_count": 16,
     "metadata": {},
     "output_type": "execute_result"
    }
   ],
   "source": [
    "# we can also specify a specific index to aggregate on\n",
    "# column\n",
    "M.min(axis=0)"
   ]
  },
  {
   "cell_type": "code",
   "execution_count": 17,
   "metadata": {},
   "outputs": [
    {
     "data": {
      "text/plain": [
       "array([0.0353227 , 0.10727745, 0.12458268])"
      ]
     },
     "execution_count": 17,
     "metadata": {},
     "output_type": "execute_result"
    }
   ],
   "source": [
    "# row\n",
    "M.min(axis=1)"
   ]
  },
  {
   "cell_type": "markdown",
   "metadata": {},
   "source": [
    "#### Common Aggregation Functions\n",
    "\n",
    "2nd column is the NaN-safe Version"
   ]
  },
  {
   "cell_type": "code",
   "execution_count": 18,
   "metadata": {},
   "outputs": [
    {
     "name": "stdout",
     "output_type": "stream",
     "text": [
      "\n",
      "np.sum\tnp.nansum\tCompute sum of elements\n",
      "np.prod\tnp.nanprod\tCompute product of elements\n",
      "np.mean\tnp.nanmean\tCompute mean of elements\n",
      "np.std\tnp.nanstd\tCompute standard deviation\n",
      "np.var\tnp.nanvar\tCompute variance\n",
      "np.min\tnp.nanmin\tFind minimum value\n",
      "np.max\tnp.nanmax\tFind maximum value\n",
      "np.argmin\tnp.nanargmin\tFind index of minimum value\n",
      "np.argmax\tnp.nanargmax\tFind index of maximum value\n",
      "np.median\tnp.nanmedian\tCompute median of elements\n",
      "np.percentile\tnp.nanpercentile\tCompute rank-based statistics of elements\n",
      "np.any\tN/A\tEvaluate whether any elements are true\n",
      "np.all\tN/A\tEvaluate whether all elements are true\n",
      "\n"
     ]
    }
   ],
   "source": [
    "print('''\n",
    "np.sum\tnp.nansum\tCompute sum of elements\n",
    "np.prod\tnp.nanprod\tCompute product of elements\n",
    "np.mean\tnp.nanmean\tCompute mean of elements\n",
    "np.std\tnp.nanstd\tCompute standard deviation\n",
    "np.var\tnp.nanvar\tCompute variance\n",
    "np.min\tnp.nanmin\tFind minimum value\n",
    "np.max\tnp.nanmax\tFind maximum value\n",
    "np.argmin\tnp.nanargmin\tFind index of minimum value\n",
    "np.argmax\tnp.nanargmax\tFind index of maximum value\n",
    "np.median\tnp.nanmedian\tCompute median of elements\n",
    "np.percentile\tnp.nanpercentile\tCompute rank-based statistics of elements\n",
    "np.any\tN/A\tEvaluate whether any elements are true\n",
    "np.all\tN/A\tEvaluate whether all elements are true\n",
    "''')"
   ]
  },
  {
   "cell_type": "code",
   "execution_count": null,
   "metadata": {},
   "outputs": [],
   "source": []
  }
 ],
 "metadata": {
  "kernelspec": {
   "display_name": "Python 3",
   "language": "python",
   "name": "python3"
  },
  "language_info": {
   "codemirror_mode": {
    "name": "ipython",
    "version": 3
   },
   "file_extension": ".py",
   "mimetype": "text/x-python",
   "name": "python",
   "nbconvert_exporter": "python",
   "pygments_lexer": "ipython3",
   "version": "3.6.9"
  }
 },
 "nbformat": 4,
 "nbformat_minor": 2
}
